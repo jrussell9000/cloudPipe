{
 "cells": [
  {
   "cell_type": "code",
   "execution_count": null,
   "metadata": {},
   "outputs": [],
   "source": [
    "# For the functional folder, create a dict with the current task order, the acquisition time, and the name\n",
    "\n",
    "# Compute a new order from the acquisition times\n",
    "\n",
    "# If the current JSON files don't reflect the new order, update them"
   ]
  },
  {
   "cell_type": "code",
   "execution_count": 13,
   "metadata": {},
   "outputs": [
    {
     "name": "stdout",
     "output_type": "stream",
     "text": [
      "sub-NDARINV007W6H7B\n",
      "ses-baselineYear1Arm1\n",
      "anat\n",
      "fmap\n",
      "dwi\n",
      "func\n",
      "sub-NDARINV005V6D2C\n",
      "ses-baselineYear1Arm1\n",
      "anat\n",
      "fmap\n",
      "dwi\n",
      "func\n",
      "sub-NDARINV003RTV85\n",
      "ses-baselineYear1Arm1\n",
      "anat\n",
      "fmap\n",
      "func\n",
      "[]\n"
     ]
    }
   ],
   "source": [
    "from pathlib import Path\n",
    "from typing import Generator\n",
    "import os\n",
    "\n",
    "input_dir = Path('/home/jdrussell3/cleanup')\n",
    "\n",
    "\n",
    "def get_files(input_dir: str) -> Generator:\n",
    "    with os.scandir(input_dir) as scan:\n",
    "        for item in scan:\n",
    "            if item.is_dir():\n",
    "                print(item.name)\n",
    "                for subitem in get_files(item.path):\n",
    "                    yield subitem\n",
    "            # if item.is_file():\n",
    "            #     if item.name.endswith('.json'):\n",
    "            #         yield item.path\n",
    "            #     # elif item.name.endswith('.nii.gz'):\n",
    "            #     #     yield item.path\n",
    "            # else:\n",
    "            #     for subitem in get_files(item.path):\n",
    "            #         yield subitem\n",
    "\n",
    "print(list(get_files(input_dir)))"
   ]
  }
 ],
 "metadata": {
  "kernelspec": {
   "display_name": "jupyter",
   "language": "python",
   "name": "python3"
  },
  "language_info": {
   "codemirror_mode": {
    "name": "ipython",
    "version": 3
   },
   "file_extension": ".py",
   "mimetype": "text/x-python",
   "name": "python",
   "nbconvert_exporter": "python",
   "pygments_lexer": "ipython3",
   "version": "3.10.0"
  }
 },
 "nbformat": 4,
 "nbformat_minor": 2
}
