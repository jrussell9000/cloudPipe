{
 "cells": [
  {
   "cell_type": "code",
   "execution_count": 107,
   "metadata": {},
   "outputs": [
    {
     "name": "stdout",
     "output_type": "stream",
     "text": [
      "{0: {'ses-baselineYear1Arm1': '/home/jdrussell3/tmp/sub-NDARINV9BBUE6LG/ses-baselineYear1Arm1/anat/sub-NDARINV9BBUE6LG_ses-baselineYear1Arm1_run-01_T1w.nii'}, 1: {'ses-2YearFollowUpYArm1': '/home/jdrussell3/tmp/sub-NDARINV9BBUE6LG/ses-2YearFollowUpYArm1/anat/sub-NDARINV9BBUE6LG_ses-2YearFollowUpYArm1_run-01_T1w.nii'}, 2: {'ses-4YearFollowUpYArm1': '/home/jdrussell3/tmp/sub-NDARINV9BBUE6LG/ses-4YearFollowUpYArm1/anat/sub-NDARINV9BBUE6LG_ses-4YearFollowUpYArm1_run-01_T1w.nii'}, 3: {'ses-6YearFollowUpYArm1': ''}, 4: {'ses-8YearFollowUpYArm1': '/home/jdrussell3/tmp/sub-NDARINV9BBUE6LG/ses-8YearFollowUpYArm1/anat/sub-NDARINV9BBUE6LG_ses-8YearFollowUpYArm1_run-01_T1w.nii'}, 5: {'ses-10YearFollowUpYArm1': ''}}\n"
     ]
    },
    {
     "data": {
      "text/plain": [
       "'{\"0\": {\"ses-baselineYear1Arm1\": \"/home/jdrussell3/tmp/sub-NDARINV9BBUE6LG/ses-baselineYear1Arm1/anat/sub-NDARINV9BBUE6LG_ses-baselineYear1Arm1_run-01_T1w.nii\"}, \"1\": {\"ses-2YearFollowUpYArm1\": \"/home/jdrussell3/tmp/sub-NDARINV9BBUE6LG/ses-2YearFollowUpYArm1/anat/sub-NDARINV9BBUE6LG_ses-2YearFollowUpYArm1_run-01_T1w.nii\"}, \"2\": {\"ses-4YearFollowUpYArm1\": \"/home/jdrussell3/tmp/sub-NDARINV9BBUE6LG/ses-4YearFollowUpYArm1/anat/sub-NDARINV9BBUE6LG_ses-4YearFollowUpYArm1_run-01_T1w.nii\"}, \"3\": {\"ses-6YearFollowUpYArm1\": \"\"}, \"4\": {\"ses-8YearFollowUpYArm1\": \"/home/jdrussell3/tmp/sub-NDARINV9BBUE6LG/ses-8YearFollowUpYArm1/anat/sub-NDARINV9BBUE6LG_ses-8YearFollowUpYArm1_run-01_T1w.nii\"}, \"5\": {\"ses-10YearFollowUpYArm1\": \"\"}}'"
      ]
     },
     "execution_count": 107,
     "metadata": {},
     "output_type": "execute_result"
    }
   ],
   "source": [
    "\n",
    "from pathlib import Path\n",
    "import os\n",
    "import json\n",
    "\n",
    "os.chdir('/home/jdrussell3/tmp')\n",
    "\n",
    "# Create a list of ABCD wave names (BIDS format)\n",
    "timepoints = [\"ses-\" + time for time in [\"baselineYear1Arm1\"] + [str(i) + \"YearFollowUpYArm1\" for i in range(2,11,2)]]\n",
    "\n",
    "# Recursively glob the paths of all T1w NIFTIs\n",
    "T1s = [p for p in Path('/home/jdrussell3/tmp').rglob('*_T1w.nii')]\n",
    "\n",
    "# Create a dict with timepoints as keys and empty strings as values\n",
    "#data = {j: {k: \"\"} for j,k in enumerate(timepoints)}\n",
    "data = { k: \"\" for k in timepoints}\n",
    "\n",
    "# For each T1 scan file returned by our glob...\n",
    "for T1 in T1s:\n",
    "  # Get the time of the T1 scan\n",
    "  T1_time = T1.name.split('_')[1]\n",
    "  # Add the file path as the value for that timepoint in the dict\n",
    "  data[T1_time] = str(T1)\n",
    "  \n",
    "data = {i: {k: v} for i, (k, v) in enumerate(data.items())}\n",
    "print(data)\n",
    "\n",
    "json.dumps(data)"
   ]
  },
  {
   "cell_type": "code",
   "execution_count": 7,
   "metadata": {},
   "outputs": [
    {
     "name": "stdout",
     "output_type": "stream",
     "text": [
      "['ses-4YearFollowUpYArm1', 'ses-baselineYear1Arm1', 'ses-2YearFollowUpYArm1', 'ses-8YearFollowUpYArm1']\n"
     ]
    }
   ],
   "source": [
    "\n",
    "from pathlib import Path\n",
    "import os\n",
    "import json\n",
    "\n",
    "os.chdir('/home/jdrussell3/tmp')\n",
    "\n",
    "# Recursively glob the paths of all T1w NIFTIs\n",
    "sessions = [p.name.split('_')[1] for p in Path('/home/jdrussell3/tmp').rglob('*_T1w.nii')]\n",
    "sessions_str = (\" \".join([*sessions]))\n",
    "sessions_gen = sessions_str.split(\" \")\n",
    "print(sessions_gen)"
   ]
  }
 ],
 "metadata": {
  "kernelspec": {
   "display_name": "fastsurfer",
   "language": "python",
   "name": "python3"
  },
  "language_info": {
   "codemirror_mode": {
    "name": "ipython",
    "version": 3
   },
   "file_extension": ".py",
   "mimetype": "text/x-python",
   "name": "python",
   "nbconvert_exporter": "python",
   "pygments_lexer": "ipython3",
   "version": "3.10.14"
  }
 },
 "nbformat": 4,
 "nbformat_minor": 2
}
