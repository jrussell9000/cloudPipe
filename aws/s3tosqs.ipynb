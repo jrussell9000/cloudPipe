{
 "cells": [
  {
   "cell_type": "code",
   "execution_count": null,
   "id": "dc5531f3",
   "metadata": {},
   "outputs": [
    {
     "name": "stdout",
     "output_type": "stream",
     "text": [
      "{'Key': 'fmriresults01/abcd-mproc-release5/NDARINV003RTV85_baselineYear1Arm1_ABCD-MPROC-MID-fMRI_20181001111800.tgz', 'LastModified': datetime.datetime(2025, 4, 3, 12, 16, 42, tzinfo=tzutc()), 'ETag': '\"603f00f47a16197a4188b17da20579ca\"', 'ChecksumAlgorithm': ['CRC64NVME'], 'ChecksumType': 'FULL_OBJECT', 'Size': 676231480, 'StorageClass': 'STANDARD'}\n"
     ]
    }
   ],
   "source": [
    "import boto3\n",
    "import json\n",
    "\n",
    "sqs = boto3.client('sqs')\n",
    "s3 = boto3.client('s3')\n",
    "\n",
    "# Implement this as a lambda function with a manual trigger - 'Start Pipeline?'\n",
    "\n",
    "bucket_name = \"abcd-v51\"\n",
    "prefix = \"fmriresults01/abcd-mproc-release5\"\n",
    "queue_url = \"https://sqs.us-east-2.amazonaws.com/575108944090/cloudpipe-jobqueue.fifo\"\n",
    "# def lambda_handler(event, context):\n",
    "subjids = []\n",
    "\n",
    "def fill_queue():\n",
    "\n",
    "    # List objects in the S3 bucket\n",
    "    paginator = s3.get_paginator('list_objects_v2')\n",
    "    page_iterator = paginator.paginate(Bucket=bucket_name, Prefix=prefix)\n",
    "    for page in page_iterator:\n",
    "        if 'Contents' in page:\n",
    "            for obj in page['Contents']:\n",
    "                print(obj)\n",
    "                if 'baselineYear1Arm1_ABCD-MPROC-T1' in obj['Key']:\n",
    "                    print(obj['Key'])\n",
    "                    prefix_path = obj['Key'].split('/')[-1]\n",
    "                    subjid = prefix_path.split('_')[0]\n",
    "                    subjids.append(subjid)\n",
    "\n",
    "    queue_url = sqs.get_queue_url(QueueName='cloudpipe-jobqueue.fifo')['QueueUrl']\n",
    "    id_list_length = len(subjids)\n",
    "    mod_10 = id_list_length % 10\n",
    "    iter_list = [*range(0, id_list_length - mod_10, 10), *range(id_list_length - mod_10, id_list_length)]\n",
    "    for i in iter_list:\n",
    "        queue_entries = []\n",
    "        for j in range(10):\n",
    "            if i + j < id_list_length:\n",
    "                print(subjids[i + j][0])\n",
    "                queue_entries.append({'Id': subjids[i + j][0], 'MessageBody': subjids[i + j][0], 'MessageGroupId': 'ABCDsubjsesIDs'})\n",
    "        sqs.send_message_batch(QueueUrl=queue_url, Entries=queue_entries)\n",
    "\n",
    "\n",
    "fill_queue()"
   ]
  }
 ],
 "metadata": {
  "kernelspec": {
   "display_name": "ndatools",
   "language": "python",
   "name": "python3"
  },
  "language_info": {
   "codemirror_mode": {
    "name": "ipython",
    "version": 3
   },
   "file_extension": ".py",
   "mimetype": "text/x-python",
   "name": "python",
   "nbconvert_exporter": "python",
   "pygments_lexer": "ipython3",
   "version": "3.11.11"
  }
 },
 "nbformat": 4,
 "nbformat_minor": 5
}
