{
 "cells": [
  {
   "cell_type": "code",
   "execution_count": null,
   "metadata": {},
   "outputs": [],
   "source": [
    "import argparse\n",
    "import configparser\n",
    "import keyring\n",
    "import logging\n",
    "import os\n",
    "import shutil\n",
    "import tarfile\n",
    "import logging\n",
    "import subprocess\n",
    "\n",
    "import ants\n",
    "import antspynet\n",
    "import nibabel as nb\n",
    "\n",
    "from argparse import Namespace\n",
    "from contextlib import contextmanager\n",
    "from dataclasses import dataclass\n",
    "from pathlib import Path"
   ]
  },
  {
   "cell_type": "code",
   "execution_count": null,
   "metadata": {},
   "outputs": [],
   "source": [
    "\n",
    "\n",
    "\n",
    "@dataclass\n",
    "class MinProc:\n",
    "    subjses: str\n",
    "    type: str\n",
    "    threads: int\n",
    "\n",
    "    # def __post_init__(self):\n",
    "    #     self.subjses = self.subjses\n",
    "    #     self.type = self.type\n",
    "    #     self.threads = self.threads\n",
    "\n",
    "    def run(self):\n",
    "        self._run_minproc()\n",
    "\n",
    "    def n4biascorrect(self):\n",
    "        image = ants.image_read(self.t1w)\n",
    "        image_n4 = ants.n4_bias_field_correction(image)\n",
    "        image_out = ants.image_write()\n",
    "\n",
    "    def threetissueseg(self, image_in):\n",
    "        image = ants.image_read(image_in)\n",
    "        bext = antspynet.brain_extraction(image, modality=\"t1threetissue\", verbose=True)\n",
    "        seg = bext['segmentation_image']\n",
    "\n",
    "    def centerT1intensity(self):\n",
    "        image = nb.load(self.t1w)\n",
    "        intensities = image.get_fdata()\n",
    "\n",
    "    def _run_minproc(self):\n"
   ]
  },
  {
   "cell_type": "code",
   "execution_count": null,
   "metadata": {},
   "outputs": [],
   "source": [
    "image = ants.image_read('/home/jdrussell3/tmp/sub-NDARINV003RTV85_ses-baselineYear1Arm1_rec-normalized_T1w.nii.gz')"
   ]
  }
 ],
 "metadata": {
  "language_info": {
   "name": "python"
  }
 },
 "nbformat": 4,
 "nbformat_minor": 2
}
